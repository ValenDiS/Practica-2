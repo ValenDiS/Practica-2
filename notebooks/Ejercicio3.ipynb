{
 "cells": [
  {
   "cell_type": "markdown",
   "id": "704d0810-499c-4439-83c5-a8346a5461f1",
   "metadata": {},
   "source": [
    "asigno las reglas a la varibale rules"
   ]
  },
  {
   "cell_type": "code",
   "execution_count": 34,
   "id": "d4aeb391-3e73-4fd0-8108-092e1aa6c08b",
   "metadata": {},
   "outputs": [],
   "source": [
    "rules = \"\"\"Respeta a los demás. No se permiten insultos ni lenguaje ofensivo.\n",
    "Evita el spam. No publiques enlaces sospechosos o repetitivos.\n",
    "No compartas información personal.\n",
    "Usa los canales adecuados para cada tema.\n",
    "Sigue las instrucciones de los moderadores.\"\"\""
   ]
  },
  {
   "cell_type": "markdown",
   "id": "3031837b-e4d2-4cbd-ba93-2b8694e4cc6c",
   "metadata": {},
   "source": [
    "le pido al usuario que ingrese una palabra"
   ]
  },
  {
   "cell_type": "code",
   "execution_count": 40,
   "id": "def918df-ec5e-4e90-aa13-475a5afd4ce8",
   "metadata": {},
   "outputs": [
    {
     "name": "stdout",
     "output_type": "stream",
     "text": [
      "Ingresar palabra clave para buscar en las reglas\n"
     ]
    },
    {
     "name": "stdin",
     "output_type": "stream",
     "text": [
      " las\n"
     ]
    }
   ],
   "source": [
    "print (\"Ingresar palabra clave para buscar en las reglas\")\n",
    "palabra_clave = input()"
   ]
  },
  {
   "cell_type": "markdown",
   "id": "29148d8e-8d6e-4abb-806c-3a93199f70c9",
   "metadata": {},
   "source": [
    "el for itera cada una de las reglas, separadas por el enter"
   ]
  },
  {
   "cell_type": "code",
   "execution_count": 42,
   "id": "f7243a93-b173-4770-9bc4-4db4ec5373f5",
   "metadata": {},
   "outputs": [
    {
     "name": "stdout",
     "output_type": "stream",
     "text": [
      "Sigue las instrucciones de los moderadores.\n"
     ]
    }
   ],
   "source": [
    "for regla in rules.split(\"\\n\"):\n",
    "    #este for itera las palabras en una regla, separadas por un espacio\n",
    "    for palabra in regla.split(\" \"):\n",
    "        #si la palabra que se esta iterando es igual a la palabra clave, la regla se imprime y se hace un brake para no seguir buscando\n",
    "        if palabra == palabra_clave:\n",
    "            print (regla)\n",
    "            break"
   ]
  },
  {
   "cell_type": "code",
   "execution_count": null,
   "id": "61057610-b91f-4344-aaaf-c953340f6b19",
   "metadata": {},
   "outputs": [],
   "source": []
  }
 ],
 "metadata": {
  "kernelspec": {
   "display_name": "Python [conda env:base] *",
   "language": "python",
   "name": "conda-base-py"
  },
  "language_info": {
   "codemirror_mode": {
    "name": "ipython",
    "version": 3
   },
   "file_extension": ".py",
   "mimetype": "text/x-python",
   "name": "python",
   "nbconvert_exporter": "python",
   "pygments_lexer": "ipython3",
   "version": "3.12.7"
  }
 },
 "nbformat": 4,
 "nbformat_minor": 5
}
