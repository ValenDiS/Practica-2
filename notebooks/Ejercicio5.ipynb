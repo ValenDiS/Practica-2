{
 "cells": [
  {
   "cell_type": "markdown",
   "id": "45fd16a8-78cf-4dbd-8e25-3a9a2a6cf6a5",
   "metadata": {},
   "source": [
    "le pido al usuario que ingrese un tiempo"
   ]
  },
  {
   "cell_type": "code",
   "execution_count": 80,
   "id": "86ca2340-a7e2-4e96-a8d8-19fc84ef1eef",
   "metadata": {},
   "outputs": [
    {
     "name": "stdout",
     "output_type": "stream",
     "text": [
      "Ingrese su tiempo de reacción en ms: \n"
     ]
    }
   ],
   "source": [
    "print(\"Ingrese su tiempo de reacción en ms: \")"
   ]
  },
  {
   "cell_type": "code",
   "execution_count": 82,
   "id": "a8996956-5daa-425e-904f-792b88cdd2ba",
   "metadata": {},
   "outputs": [
    {
     "name": "stdin",
     "output_type": "stream",
     "text": [
      " 260\n"
     ]
    }
   ],
   "source": [
    "reaccion = input()"
   ]
  },
  {
   "cell_type": "markdown",
   "id": "448d5cf1-8b35-45e6-979c-b725b82f9217",
   "metadata": {},
   "source": [
    "si ingreso un digito, lo convierto en int"
   ]
  },
  {
   "cell_type": "code",
   "execution_count": 85,
   "id": "3d59b199-ed53-48fa-8263-4767fbdb3660",
   "metadata": {},
   "outputs": [
    {
     "name": "stdout",
     "output_type": "stream",
     "text": [
      "Categoría: Normal\n"
     ]
    }
   ],
   "source": [
    "if (reaccion.isdigit()):\n",
    "    reaccion = int(reaccion)\n",
    "    #hago comparaciones para ver en que categoria se encuentra el usuario\n",
    "    if (reaccion<250):\n",
    "        print(\"Categoría: Rapido\")\n",
    "    elif (reaccion>250 and reaccion<500):\n",
    "        print(\"Categoría: Normal\")\n",
    "    else: print(\"Categoría: Lento\")\n",
    "else: print(\"Tiempo invalido\")"
   ]
  },
  {
   "cell_type": "markdown",
   "id": "ef1fbacd-068b-4fde-a6cf-31960267e0d6",
   "metadata": {},
   "source": [
    "si no es un digito, imprimo que el tiempo ingresado es invalido"
   ]
  }
 ],
 "metadata": {
  "kernelspec": {
   "display_name": "Python [conda env:base] *",
   "language": "python",
   "name": "conda-base-py"
  },
  "language_info": {
   "codemirror_mode": {
    "name": "ipython",
    "version": 3
   },
   "file_extension": ".py",
   "mimetype": "text/x-python",
   "name": "python",
   "nbconvert_exporter": "python",
   "pygments_lexer": "ipython3",
   "version": "3.12.7"
  }
 },
 "nbformat": 4,
 "nbformat_minor": 5
}
