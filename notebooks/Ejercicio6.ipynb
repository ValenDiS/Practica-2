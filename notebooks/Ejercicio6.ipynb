{
 "cells": [
  {
   "cell_type": "markdown",
   "id": "d6dea242-c11e-4b67-af16-92c8cca00f91",
   "metadata": {},
   "source": [
    "asigno las descripciones a una variable"
   ]
  },
  {
   "cell_type": "code",
   "execution_count": 90,
   "id": "5c83667e-e49f-4c9d-99e0-8c05b2696842",
   "metadata": {},
   "outputs": [],
   "source": [
    "descriptions = [\n",
    "\"Streaming de música en vivo con covers y composiciones\",\n",
    "\"Charla interactiva con la audiencia sobre series y películas\",\n",
    "\"Jugamos a juegos retro y charlamos sobre su historia\",\n",
    "\"Exploramos la mejor música de los 80s y 90s\",\n",
    "\"Programa de entretenimiento con noticias y curiosidades del mundo gamer\",\n",
    "\"Sesión de charla con invitados especiales del mundo del streaming\",\n",
    "\"Música en directo con improvisaciones y peticiones del chat\",\n",
    "\"Un espacio para charlar relajada sobre tecnología y cultura digital\",\n",
    "\"Exploramos el impacto de la música en los videojuegos clásicos\"\n",
    "]"
   ]
  },
  {
   "cell_type": "markdown",
   "id": "0063487a-58c2-492b-8e47-3f7f7ca9d7ab",
   "metadata": {},
   "source": [
    "inicializo las variables que voy a usar para ir contando"
   ]
  },
  {
   "cell_type": "code",
   "execution_count": 93,
   "id": "134cb0cc-a964-49f8-ad86-8e3e54d9cd61",
   "metadata": {},
   "outputs": [],
   "source": [
    "musica = 0\n",
    "charla = 0\n",
    "entretenimiento = 0"
   ]
  },
  {
   "cell_type": "markdown",
   "id": "db9162e3-5950-42ba-831c-9bbcdece9e79",
   "metadata": {},
   "source": [
    "voy iterando por cada descripcion en la lista de descripciones"
   ]
  },
  {
   "cell_type": "code",
   "execution_count": 96,
   "id": "11279a6e-0e6b-4311-9f8d-4012996c6d03",
   "metadata": {},
   "outputs": [],
   "source": [
    "for descripcion in descriptions:\n",
    "    #separo las descripciones en palabras, ya que las palabras se separan por espacios. Luego comparo las palabras de la frase con las palabras que busco y las voy sumando en las varaiables\n",
    "    for palabra in descripcion.split(\" \"):\n",
    "        if palabra.lower() == \"música\":\n",
    "            musica = musica + 1\n",
    "        elif palabra.lower() == \"charla\":\n",
    "            charla = charla + 1\n",
    "        elif palabra.lower() == \"entretenimiento\":\n",
    "            entretenimiento = entretenimiento+1"
   ]
  },
  {
   "cell_type": "markdown",
   "id": "05b0b89c-5a5a-44ed-a625-74baebc902f9",
   "metadata": {},
   "source": [
    "imprimo las variables que fui sumando"
   ]
  },
  {
   "cell_type": "code",
   "execution_count": 99,
   "id": "885ac740-a45e-431a-bdbe-9d2c6e8fb052",
   "metadata": {},
   "outputs": [
    {
     "name": "stdout",
     "output_type": "stream",
     "text": [
      "Menciones de 'música': 4\n",
      "Menciones de 'charla': 2\n",
      "Menciones de 'entretenimiento': 1\n"
     ]
    }
   ],
   "source": [
    "print(f\"Menciones de 'música': {musica}\")\n",
    "print(f\"Menciones de 'charla': {charla}\")\n",
    "print(f\"Menciones de 'entretenimiento': {entretenimiento}\")"
   ]
  }
 ],
 "metadata": {
  "kernelspec": {
   "display_name": "Python [conda env:base] *",
   "language": "python",
   "name": "conda-base-py"
  },
  "language_info": {
   "codemirror_mode": {
    "name": "ipython",
    "version": 3
   },
   "file_extension": ".py",
   "mimetype": "text/x-python",
   "name": "python",
   "nbconvert_exporter": "python",
   "pygments_lexer": "ipython3",
   "version": "3.12.7"
  }
 },
 "nbformat": 4,
 "nbformat_minor": 5
}
