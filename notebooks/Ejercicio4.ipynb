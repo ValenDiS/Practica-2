{
 "cells": [
  {
   "cell_type": "markdown",
   "id": "1eb4c74c-b8bd-48bb-a1b2-741b97ecce7d",
   "metadata": {},
   "source": [
    "pido al usuario que ingrese un nombre"
   ]
  },
  {
   "cell_type": "code",
   "execution_count": 47,
   "id": "37c17f1f-3e39-4537-9a13-aaf33ce06cd5",
   "metadata": {},
   "outputs": [
    {
     "name": "stdout",
     "output_type": "stream",
     "text": [
      "Ingresar nombre de usuario:\n"
     ]
    },
    {
     "name": "stdin",
     "output_type": "stream",
     "text": [
      " RamonGamer3\n"
     ]
    }
   ],
   "source": [
    "print(\"Ingresar nombre de usuario:\")\n",
    "nombre_usuario = input()"
   ]
  },
  {
   "cell_type": "markdown",
   "id": "75ea347a-7791-4ebf-a3d8-d6457bca97eb",
   "metadata": {},
   "source": [
    "inicializo variables que voy a necesitar posteriormente para verificar distintas caracteristicas del nombre de usuario"
   ]
  },
  {
   "cell_type": "code",
   "execution_count": 50,
   "id": "8f583756-86d8-4887-a296-11d4d472fed3",
   "metadata": {},
   "outputs": [],
   "source": [
    "largo = True\n",
    "mayus = False\n",
    "numero = False\n",
    "solo_n_y_l = True"
   ]
  },
  {
   "cell_type": "markdown",
   "id": "f9c2a9ed-b5b5-4cfb-b2f4-c0130e548f65",
   "metadata": {},
   "source": [
    "si el nombre tiene menos de 5 letras, entonces la caracteristica \"largo\" es falsa, por lo que el nombre de usuario es invalido"
   ]
  },
  {
   "cell_type": "code",
   "execution_count": 53,
   "id": "84bcab9c-04f3-4ca8-ae69-a0ba6c9c8632",
   "metadata": {},
   "outputs": [],
   "source": [
    "if (len(nombre_usuario)<5):\n",
    "    largo = False"
   ]
  },
  {
   "cell_type": "markdown",
   "id": "a3e22941-734d-463d-b789-903cf63c4088",
   "metadata": {},
   "source": [
    "si el nombre es de mas de 5 caracteres, analizamos las letras"
   ]
  },
  {
   "cell_type": "code",
   "execution_count": 56,
   "id": "255e18d3-18a2-4e0d-a835-2b8033b35e02",
   "metadata": {},
   "outputs": [],
   "source": [
    "if (largo):\n",
    "    for caracter in nombre_usuario:\n",
    "        #si la variable \"numero\" no esta cumplida, revisamos si el caracter que estamos iterando es un numero\n",
    "        if not(numero):\n",
    "            #si es un numer, entonces ya no tenemos que volver a buscar numeros, porque el nombre de usuario ya cumple con esta caracteristica\n",
    "            if caracter.isdigit():\n",
    "                numero = True\n",
    "        #lo mismo con las mayusculas\n",
    "        if not(mayus):\n",
    "            if caracter.isupper():\n",
    "                mayus = True\n",
    "        #si el caracter no es ni letra ni numero, el nombre de usuario se descarta automaticamente, por lo que salimos del for\n",
    "        if not(((caracter.isalpha()) or (caracter.isdigit()))):\n",
    "            solo_n_y_l = False\n",
    "            break"
   ]
  },
  {
   "cell_type": "markdown",
   "id": "5309488a-bb81-4177-b6c1-e68ad9ebf94f",
   "metadata": {},
   "source": [
    "si todas las carateristicas se cumplen, el nombre es valido. Si alguna no se cumple, es invalido"
   ]
  },
  {
   "cell_type": "code",
   "execution_count": 60,
   "id": "5e7a31e1-e3c7-4c09-9f40-11d17b3a5888",
   "metadata": {},
   "outputs": [
    {
     "name": "stdout",
     "output_type": "stream",
     "text": [
      "Nombre de usuario valido\n"
     ]
    }
   ],
   "source": [
    "if (largo and mayus and numero and solo_n_y_l):\n",
    "    print(\"Nombre de usuario valido\")\n",
    "else:\n",
    "    print(\"Nombre de usuario invalido\")"
   ]
  }
 ],
 "metadata": {
  "kernelspec": {
   "display_name": "Python [conda env:base] *",
   "language": "python",
   "name": "conda-base-py"
  },
  "language_info": {
   "codemirror_mode": {
    "name": "ipython",
    "version": 3
   },
   "file_extension": ".py",
   "mimetype": "text/x-python",
   "name": "python",
   "nbconvert_exporter": "python",
   "pygments_lexer": "ipython3",
   "version": "3.12.7"
  }
 },
 "nbformat": 4,
 "nbformat_minor": 5
}
