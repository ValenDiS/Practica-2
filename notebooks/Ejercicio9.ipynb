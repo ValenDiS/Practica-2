{
 "cells": [
  {
   "cell_type": "markdown",
   "id": "95b22f7f-4ab1-4c15-92fd-f68c87b81867",
   "metadata": {},
   "source": [
    "cargo la lista inicial"
   ]
  },
  {
   "cell_type": "code",
   "execution_count": 3,
   "id": "c2bfb30e-5416-472e-8f6c-99a7a25889d9",
   "metadata": {},
   "outputs": [],
   "source": [
    "clients = [\n",
    "\" Ana López \", \"Pedro Gómez\", \"maria martínez\", \"Pedro Gómez \", \"\",\n",
    "\" Luis Rodríguez \", None, \"ana lópez\", \"JUAN PÉREZ\", \"MARTA SUÁREZ\",\n",
    "\"luis rodríguez\", \"maría martínez \", \" claudia torres\", \"CLAUDIA TORRES\",\n",
    "\" \", \"pedro gómez\", \"Juan Pérez\", None, \"Ricardo Fernández\", \"LAURA RAMOS\",\n",
    "\"carlos mendes\", \"RICARDO FERNÁNDEZ \", \" Laura ramos\", \"CARLOS MENDES\",\n",
    "\"alejandro gonzález\", \" ALEJANDRO GONZÁLEZ \", \"Patricia Vega\",\n",
    "\"patricia VEGA\", \"Andrés Ocampo\", \" andrés ocampo\", \"Monica Herrera\",\n",
    "\"MONICA HERRERA \", \"gabriela ruíz\", \"Gabriela Ruíz\", \"sandra morales\",\n",
    "\"SANDRA MORALES\", \"miguel ángel\", \"Miguel Ángel \", \" Damián Castillo\",\n",
    "\"Damián Castillo \", None, \"\", \" \"\n",
    "]"
   ]
  },
  {
   "cell_type": "markdown",
   "id": "01ae15df-aa6f-45f1-a92f-adb721ad7628",
   "metadata": {},
   "source": [
    "para cada cliente de la lista, strip() elimina los espacios en blanco al final y al principio de los nombres\n",
    "para cada cliente de la lista, strip() elimina los espacios en blanco al final y al principio de los nombres\n",
    "if client and client.strip() elimina de la lista los vacios y none: por ejemplo:\n",
    "si cliente = \"\", el if da falso. si cliente = \" \", cliente.strip() = \"\", asi que da falso. si cliente = none, da falso\n",
    "list(set()) hace que no se puedan repetir nombres, exepto por Maria Martínez y María Martínez, que cuentan como nombres distintos"
   ]
  },
  {
   "cell_type": "code",
   "execution_count": 5,
   "id": "7e6f0414-6b32-4d4f-bb96-b0adc290c539",
   "metadata": {},
   "outputs": [],
   "source": [
    "clients = list(set(cliente.strip().title() for cliente in clients if cliente and cliente.strip()))\n"
   ]
  },
  {
   "cell_type": "markdown",
   "id": "323730cd-eaa6-4bf5-be1b-344364efc16e",
   "metadata": {},
   "source": [
    "imprimo"
   ]
  },
  {
   "cell_type": "code",
   "execution_count": 7,
   "id": "c2873f8d-8095-4137-9ffc-07dd6c8f9b7b",
   "metadata": {},
   "outputs": [
    {
     "name": "stdout",
     "output_type": "stream",
     "text": [
      "['Luis Rodríguez', 'Monica Herrera', 'Marta Suárez', 'Juan Pérez', 'Alejandro González', 'Ana López', 'Pedro Gómez', 'Patricia Vega', 'Gabriela Ruíz', 'Damián Castillo', 'María Martínez', 'Miguel Ángel', 'Laura Ramos', 'Carlos Mendes', 'Andrés Ocampo', 'Ricardo Fernández', 'Maria Martínez', 'Claudia Torres', 'Sandra Morales']\n"
     ]
    }
   ],
   "source": [
    "print(clients)"
   ]
  },
  {
   "cell_type": "code",
   "execution_count": null,
   "id": "f4d29d95-a882-47b4-a5fa-6fbcfb614ddf",
   "metadata": {},
   "outputs": [],
   "source": []
  }
 ],
 "metadata": {
  "kernelspec": {
   "display_name": "Python [conda env:base] *",
   "language": "python",
   "name": "conda-base-py"
  },
  "language_info": {
   "codemirror_mode": {
    "name": "ipython",
    "version": 3
   },
   "file_extension": ".py",
   "mimetype": "text/x-python",
   "name": "python",
   "nbconvert_exporter": "python",
   "pygments_lexer": "ipython3",
   "version": "3.12.7"
  }
 },
 "nbformat": 4,
 "nbformat_minor": 5
}
