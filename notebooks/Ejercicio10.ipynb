{
 "cells": [
  {
   "cell_type": "markdown",
   "id": "e928e1ba-9e03-4a74-9842-c5641f6ff84b",
   "metadata": {},
   "source": [
    "cargo el diccionario inicial. Para que el codigo quede mas corto, hago esto en una funcion fuera del codigo\n"
   ]
  },
  {
   "cell_type": "code",
   "execution_count": 29,
   "id": "23d50c52-4b61-49ed-8243-c60c87a97d26",
   "metadata": {},
   "outputs": [],
   "source": [
    "from src.funciones import cargar_rondas\n",
    "rounds = cargar_rondas()"
   ]
  },
  {
   "cell_type": "markdown",
   "id": "17ad99b7-a4d5-4f0a-bf26-8c1cd6cebcf6",
   "metadata": {},
   "source": [
    "inicializo el diccionario puntuacion_actual, para ir llevando registro de la estadisticas de cada jugador"
   ]
  },
  {
   "cell_type": "code",
   "execution_count": 31,
   "id": "c9de3d02-65a8-4b1c-9cb7-7b2318ade1b6",
   "metadata": {},
   "outputs": [],
   "source": [
    "puntuacion_actual = {\n",
    "'Shadow': {'kills': 0, 'assists': 0, 'deaths': 0, 'points': 0, 'MVPs': 0},\n",
    "'Blaze': {'kills': 0, 'assists': 0, 'deaths': 0, 'points': 0, 'MVPs': 0},\n",
    "'Viper': {'kills': 0, 'assists': 0, 'deaths': 0, 'points': 0, 'MVPs': 0},\n",
    "'Frost': {'kills': 0, 'assists': 0, 'deaths': 0, 'points': 0, 'MVPs': 0},\n",
    "'Reaper':{'kills': 0, 'assists': 0, 'deaths': 0, 'points': 0, 'MVPs': 0},\n",
    "}"
   ]
  },
  {
   "cell_type": "markdown",
   "id": "28fd9105-bd32-4796-af3d-49cfcb63b6b5",
   "metadata": {},
   "source": [
    "inicializo numero_ronda, para poder imprimir la ronda dentro del for"
   ]
  },
  {
   "cell_type": "code",
   "execution_count": 33,
   "id": "219c4178-2697-4617-abf7-1fd566b0f5b5",
   "metadata": {},
   "outputs": [],
   "source": [
    "numero_ronda = 0"
   ]
  },
  {
   "cell_type": "markdown",
   "id": "bff9cc82-12a4-4c84-9f2e-bf0877aed1f4",
   "metadata": {},
   "source": [
    "este for va iterando por cada ronda"
   ]
  },
  {
   "cell_type": "code",
   "execution_count": 35,
   "id": "bb60d279-e4ef-4d72-ad7d-b20c0f638998",
   "metadata": {},
   "outputs": [
    {
     "name": "stdout",
     "output_type": "stream",
     "text": [
      "\n",
      "Ronda 1:\n",
      "MVP: Shadow\n",
      "Ranking:\n",
      "Jugador         Kills       Asistencias Muertes   MVPs  Puntos\n",
      "---------------------------------------------------------------\n",
      "Shadow            2              1         1       1       6\n",
      "Viper             1              2         1       0       4\n",
      "Reaper            1              1         0       0       4\n",
      "Blaze             1              0         0       0       3\n",
      "Frost             0              1         0       0       1\n",
      "---------------------------------------------------------------\n",
      "\n",
      "Ronda 2:\n",
      "MVP: Frost\n",
      "Ranking:\n",
      "Jugador         Kills       Asistencias Muertes   MVPs  Puntos\n",
      "---------------------------------------------------------------\n",
      "Shadow            2              3         1       1       8\n",
      "Viper             2              3         1       0       8\n",
      "Blaze             3              0         1       0       8\n",
      "Frost             2              2         1       1       7\n",
      "Reaper            1              2         0       0       5\n",
      "---------------------------------------------------------------\n",
      "\n",
      "Ronda 3:\n",
      "MVP: Blaze\n",
      "Ranking:\n",
      "Jugador         Kills       Asistencias Muertes   MVPs  Puntos\n",
      "---------------------------------------------------------------\n",
      "Blaze             5              2         2       1      15\n",
      "Shadow            3              3         1       1      11\n",
      "Viper             3              4         2       0      11\n",
      "Reaper            2              3         0       0       9\n",
      "Frost             2              3         1       1       8\n",
      "---------------------------------------------------------------\n",
      "\n",
      "Ronda 4:\n",
      "MVP: Shadow\n",
      "Ranking:\n",
      "Jugador         Kills       Asistencias Muertes   MVPs  Puntos\n",
      "---------------------------------------------------------------\n",
      "Shadow            5              4         1       2      18\n",
      "Blaze             6              2         3       1      17\n",
      "Viper             3              6         2       0      13\n",
      "Reaper            3              4         0       0      13\n",
      "Frost             3              4         2       1      11\n",
      "---------------------------------------------------------------\n",
      "\n",
      "Ronda Final:\n",
      "MVP: Viper\n",
      "Ranking:\n",
      "Jugador         Kills       Asistencias Muertes   MVPs  Puntos\n",
      "---------------------------------------------------------------\n",
      "Shadow            6              6         2       2      22\n",
      "Blaze             6              3         3       1      18\n",
      "Viper             5              6         3       1      18\n",
      "Reaper            4              5         1       0      16\n",
      "Frost             4              5         2       1      15\n",
      "---------------------------------------------------------------\n"
     ]
    }
   ],
   "source": [
    "for round in rounds:\n",
    "    #se suma la cantidad de rondas\n",
    "    numero_ronda += 1\n",
    "    #se reinician los puntos a superar por el MVP\n",
    "    puntosMVP = 0\n",
    "    #este for itera por jugadores del round\n",
    "    for jugador, estadistica in round.items():\n",
    "        #busco en puntuacion_actual las kills del jugador, y le sumo\n",
    "        #la estadistica correspondiente de la lista de rounds\n",
    "        puntuacion_actual[jugador]['kills'] += estadistica['kills']\n",
    "        #hago lo mismo con las asistencias\n",
    "        puntuacion_actual[jugador]['assists'] += estadistica['assists']\n",
    "        #hago lo mismo con las muertes, pero convieriendo el boolean en int\n",
    "        puntuacion_actual[jugador]['deaths'] += int(estadistica['deaths'])\n",
    "        #le asigno a puntos_jugador el resultado de la formula para calcular los puntos en la simulacion\n",
    "        puntos_jugador = (estadistica['kills']*3) + (estadistica['assists'] - (int(estadistica['deaths'])))\n",
    "        #le sumo esos puntos a la tabla de puntuaciones\n",
    "        puntuacion_actual[jugador]['points'] += puntos_jugador\n",
    "        #verifico si el jugador tiene mas puntos que el actual MVP\n",
    "        if (puntos_jugador>puntosMVP):\n",
    "            #si los tiene, se lo asigna como MVP y sus puntos pasan a ser los del MVP\n",
    "            puntosMVP = puntos_jugador\n",
    "            MVP = jugador\n",
    "    #al salir del anterior for, se le agrega al MVP su punto por ser MVP\n",
    "    puntuacion_actual[MVP]['MVPs'] += 1\n",
    "    #esta linea ordena la tabla por puntos. \n",
    "    #puntuacion_actual.items() separa los jugadores en una tupla\n",
    "    #key=lambda x: x[1]['points'] le dice a sorted como ordenar los jugadores\n",
    "    #sorted(..., reverse=True) devuelve a los jugadores en orden descendente (una vez ordenados por puntos)\n",
    "    #dict(...) convierte la lista de tuplas de nuevo en diccionario\n",
    "    puntuacion_actual = dict(sorted(puntuacion_actual.items(), key=lambda x: x[1]['points'], reverse=True))\n",
    "    \n",
    "    #imprimo la informacion de la ronda\n",
    "    print(\"\")\n",
    "    if (numero_ronda<5):\n",
    "        print(f\"Ronda {numero_ronda}:\")\n",
    "    else:\n",
    "        print(\"Ronda Final:\")\n",
    "    print(f\"MVP: {MVP}\")\n",
    "    print (\"Ranking:\")\n",
    "    print(\"Jugador         Kills       Asistencias Muertes   MVPs  Puntos\")\n",
    "    print(\"---------------------------------------------------------------\")\n",
    "    for jugador, estadistica in puntuacion_actual.items():\n",
    "        print(f\"{jugador:<12} {estadistica['kills']:>6} {estadistica['assists']:>14} {estadistica['deaths']:>9} {estadistica['MVPs']:>7} {estadistica['points']:>7}\")\n",
    "    print(\"---------------------------------------------------------------\")"
   ]
  },
  {
   "cell_type": "code",
   "execution_count": null,
   "id": "4d6d4f7e-ff15-4a2f-b8cc-1ee7d2bd131c",
   "metadata": {},
   "outputs": [],
   "source": []
  }
 ],
 "metadata": {
  "kernelspec": {
   "display_name": "Python [conda env:base] *",
   "language": "python",
   "name": "conda-base-py"
  },
  "language_info": {
   "codemirror_mode": {
    "name": "ipython",
    "version": 3
   },
   "file_extension": ".py",
   "mimetype": "text/x-python",
   "name": "python",
   "nbconvert_exporter": "python",
   "pygments_lexer": "ipython3",
   "version": "3.12.7"
  }
 },
 "nbformat": 4,
 "nbformat_minor": 5
}
