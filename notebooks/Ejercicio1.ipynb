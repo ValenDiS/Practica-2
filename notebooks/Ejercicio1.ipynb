{
 "cells": [
  {
   "cell_type": "markdown",
   "id": "d09bbbf8-2025-49c8-aad3-797d32c2cb72",
   "metadata": {},
   "source": [
    "asigno el texto del import this a una variable"
   ]
  },
  {
   "cell_type": "code",
   "execution_count": 3,
   "id": "dae3fed7-305d-4489-b5a3-bc74ca6ba199",
   "metadata": {},
   "outputs": [],
   "source": [
    "\n",
    "zen_text = \"\"\"The Zen of Python, by Tim Peters\n",
    "\n",
    "Beautiful is better than ugly.\n",
    "Explicit is better than implicit.\n",
    "Simple is better than complex.\n",
    "Complex is better than complicated.\n",
    "Flat is better than nested.\n",
    "Sparse is better than dense.\n",
    "Readability counts.\n",
    "Special cases aren't special enough to break the rules.\n",
    "Although practicality beats purity.\n",
    "Errors should never pass silently.\n",
    "Unless explicitly silenced.\n",
    "In the face of ambiguity, refuse the temptation to guess.\n",
    "There should be one-- and preferably only one --obvious way to do it.\n",
    "Although that way may not be obvious at first unless you're Dutch.\n",
    "Now is better than never.\n",
    "Although never is often better than *right* now.\n",
    "If the implementation is hard to explain, it's a bad idea.\n",
    "If the implementation is easy to explain, it may be a good idea.\n",
    "Namespaces are one honking great idea -- let's do more of those!\"\"\""
   ]
  },
  {
   "cell_type": "markdown",
   "id": "85a08b33-1951-461b-b50d-7d1d112c4e3a",
   "metadata": {},
   "source": [
    "Este for va iterando por cada linea del texto, haciendo un split cuando hay un \\n"
   ]
  },
  {
   "cell_type": "markdown",
   "id": "90daa7f3-07eb-4fe4-8fae-5ef0ce7b0402",
   "metadata": {},
   "source": [
    "si la cantidad de palabras de mi linea es mayor a 2, y si la primer letra de esa palabra esta en \"aeiou\", imprimo\n"
   ]
  },
  {
   "cell_type": "code",
   "execution_count": 5,
   "id": "7923a804-cb74-4179-92f6-dfa8bbdcecd7",
   "metadata": {},
   "outputs": [
    {
     "name": "stdout",
     "output_type": "stream",
     "text": [
      "Beautiful is better than ugly.\n",
      "Explicit is better than implicit.\n",
      "Simple is better than complex.\n",
      "Complex is better than complicated.\n",
      "Flat is better than nested.\n",
      "Sparse is better than dense.\n",
      "Unless explicitly silenced.\n",
      "Now is better than never.\n",
      "Namespaces are one honking great idea -- let's do more of those!\n"
     ]
    }
   ],
   "source": [
    "for linea in zen_text.split(\"\\n\"):\n",
    "    palabras = linea.split()\n",
    "    if len(palabras) > 1 and (palabras[1][0].lower() in \"aeiou\"):\n",
    "        print (linea) "
   ]
  },
  {
   "cell_type": "code",
   "execution_count": null,
   "id": "adc457cd-2c21-4d1c-8f46-786723c0151b",
   "metadata": {},
   "outputs": [],
   "source": []
  }
 ],
 "metadata": {
  "kernelspec": {
   "display_name": "Python [conda env:base] *",
   "language": "python",
   "name": "conda-base-py"
  },
  "language_info": {
   "codemirror_mode": {
    "name": "ipython",
    "version": 3
   },
   "file_extension": ".py",
   "mimetype": "text/x-python",
   "name": "python",
   "nbconvert_exporter": "python",
   "pygments_lexer": "ipython3",
   "version": "3.12.7"
  }
 },
 "nbformat": 4,
 "nbformat_minor": 5
}
