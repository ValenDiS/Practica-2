{
 "cells": [
  {
   "cell_type": "markdown",
   "id": "ac305f1f-2c0a-4ad4-85d1-21bc30bec54d",
   "metadata": {},
   "source": [
    "pido al usuario que ingrese palabras"
   ]
  },
  {
   "cell_type": "code",
   "execution_count": 125,
   "id": "0d4ccc1c-c3f5-4e12-888e-a862ee553229",
   "metadata": {},
   "outputs": [
    {
     "name": "stdout",
     "output_type": "stream",
     "text": [
      "Ingresar palabra 1\n"
     ]
    },
    {
     "name": "stdin",
     "output_type": "stream",
     "text": [
      " Ramon\n"
     ]
    }
   ],
   "source": [
    "print(\"Ingresar palabra 1\")\n",
    "palabra1 = input()"
   ]
  },
  {
   "cell_type": "code",
   "execution_count": 127,
   "id": "5d338678-b3ee-4d6a-9550-147b672372a0",
   "metadata": {},
   "outputs": [
    {
     "name": "stdout",
     "output_type": "stream",
     "text": [
      "Ingresar palabra 2\n"
     ]
    },
    {
     "name": "stdin",
     "output_type": "stream",
     "text": [
      " norma\n"
     ]
    }
   ],
   "source": [
    "print(\"Ingresar palabra 2\")\n",
    "palabra2 = input()"
   ]
  },
  {
   "cell_type": "markdown",
   "id": "9951918a-d930-44fe-9944-f04f2cd25a36",
   "metadata": {},
   "source": [
    "las paso a minuscula"
   ]
  },
  {
   "cell_type": "code",
   "execution_count": 130,
   "id": "a2ffd679-6536-4a58-8da9-497e8561e8f9",
   "metadata": {},
   "outputs": [],
   "source": [
    "palabra1 = palabra1.lower()\n",
    "palabra2 = palabra2.lower()"
   ]
  },
  {
   "cell_type": "markdown",
   "id": "72ef57da-a671-4786-bdd2-696daeaaa1a5",
   "metadata": {},
   "source": [
    "reviso si, al ordenarlas de la misma manera, son iguales. Si lo son, son anagramas, sino no. Imprimo un mensaje para informar el resultado"
   ]
  },
  {
   "cell_type": "code",
   "execution_count": 133,
   "id": "923ab5ee-90d8-4866-bb61-b173a3b8974f",
   "metadata": {},
   "outputs": [
    {
     "name": "stdout",
     "output_type": "stream",
     "text": [
      "Son anagramas\n"
     ]
    }
   ],
   "source": [
    "if sorted(palabra1) == sorted(palabra2):\n",
    "    print(\"Son anagramas\")\n",
    "else:\n",
    "    print(\"No son anagramas\")"
   ]
  }
 ],
 "metadata": {
  "kernelspec": {
   "display_name": "Python [conda env:base] *",
   "language": "python",
   "name": "conda-base-py"
  },
  "language_info": {
   "codemirror_mode": {
    "name": "ipython",
    "version": 3
   },
   "file_extension": ".py",
   "mimetype": "text/x-python",
   "name": "python",
   "nbconvert_exporter": "python",
   "pygments_lexer": "ipython3",
   "version": "3.12.7"
  }
 },
 "nbformat": 4,
 "nbformat_minor": 5
}
