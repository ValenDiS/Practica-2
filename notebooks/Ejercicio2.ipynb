{
 "cells": [
  {
   "cell_type": "markdown",
   "id": "27ddbb89-b7d0-4e82-99de-e1af1c4c585e",
   "metadata": {},
   "source": [
    "asigno los titulos a una lista"
   ]
  },
  {
   "cell_type": "code",
   "execution_count": 3,
   "id": "e61e97b5-e332-43b9-836f-bdbb4e78fd77",
   "metadata": {},
   "outputs": [],
   "source": [
    "titles = [\n",
    "    \"Speedrun de Super Mario en tiempo récord\",\n",
    "    \"Charla sobre desarrollo de videojuegos\",\n",
    "    \"Jugando al nuevo FPS del momento con amigos\",\n",
    "    \"Música en vivo: improvisaciones al piano\"\n",
    "    ]"
   ]
  },
  {
   "cell_type": "markdown",
   "id": "95217ea1-bf59-4de3-9e93-d91dd76d150a",
   "metadata": {},
   "source": [
    "creo una variable para almacenar el titulo mas largo. Por ahora esta vacia\n"
   ]
  },
  {
   "cell_type": "code",
   "execution_count": 6,
   "id": "cf8495a6-c2de-4507-b464-92df53029bf7",
   "metadata": {},
   "outputs": [],
   "source": [
    "titulo_largo = \"\"\n"
   ]
  },
  {
   "cell_type": "markdown",
   "id": "c237f856-90a7-4f10-9c9b-4bc63754118e",
   "metadata": {},
   "source": [
    "este for va iterando por titulo en la lista de titulos. Si la longitud del titulo es mayor que la longitud del titulo mas largo, este pasa a ser almacenado como el titulo mas largo\n"
   ]
  },
  {
   "cell_type": "code",
   "execution_count": 9,
   "id": "ac09f4cd-6cc4-444d-8f09-f13371e37562",
   "metadata": {},
   "outputs": [],
   "source": [
    "for titulo in titles:\n",
    "    if len(titulo) > len(titulo_largo):\n",
    "        titulo_largo = titulo"
   ]
  },
  {
   "cell_type": "markdown",
   "id": "268e7233-a1e0-4dd8-8e43-b0ad4a26ae86",
   "metadata": {},
   "source": [
    "despues del for, se imprime el titulo almacenado como el mas largo"
   ]
  },
  {
   "cell_type": "code",
   "execution_count": 12,
   "id": "669cd6df-f713-4955-bb44-1db55bc22530",
   "metadata": {},
   "outputs": [
    {
     "name": "stdout",
     "output_type": "stream",
     "text": [
      "Jugando al nuevo FPS del momento con amigos\n"
     ]
    }
   ],
   "source": [
    "print(titulo_largo)"
   ]
  }
 ],
 "metadata": {
  "kernelspec": {
   "display_name": "Python [conda env:base] *",
   "language": "python",
   "name": "conda-base-py"
  },
  "language_info": {
   "codemirror_mode": {
    "name": "ipython",
    "version": 3
   },
   "file_extension": ".py",
   "mimetype": "text/x-python",
   "name": "python",
   "nbconvert_exporter": "python",
   "pygments_lexer": "ipython3",
   "version": "3.12.7"
  }
 },
 "nbformat": 4,
 "nbformat_minor": 5
}
