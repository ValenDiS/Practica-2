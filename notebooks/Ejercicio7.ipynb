{
 "cells": [
  {
   "cell_type": "markdown",
   "id": "a687b2f3-5558-4c38-a90a-a1dc2d6e641f",
   "metadata": {},
   "source": [
    "le pido al usuario su nombre"
   ]
  },
  {
   "cell_type": "code",
   "execution_count": 3,
   "id": "bd9bcf3a-5f90-432a-a41d-451295acf3e0",
   "metadata": {},
   "outputs": [
    {
     "name": "stdout",
     "output_type": "stream",
     "text": [
      "Introducir nombre de usuario. Maximo 15 caracteres\n"
     ]
    }
   ],
   "source": [
    "print(\"Introducir nombre de usuario. Maximo 15 caracteres\")\n"
   ]
  },
  {
   "cell_type": "code",
   "execution_count": 5,
   "id": "8406d3a8-a4fc-4fea-95e9-c148cc0b3cc4",
   "metadata": {},
   "outputs": [
    {
     "name": "stdin",
     "output_type": "stream",
     "text": [
      " Valentino19\n"
     ]
    }
   ],
   "source": [
    "nombreUsuario = input()"
   ]
  },
  {
   "cell_type": "markdown",
   "id": "6e77b455-bafa-423d-82be-d21e447b9cdc",
   "metadata": {},
   "source": [
    "reviso si el nombre es de menos de 16 caracteres\n"
   ]
  },
  {
   "cell_type": "code",
   "execution_count": 7,
   "id": "00bf12fe-2298-43e2-8214-a9687efae8b4",
   "metadata": {},
   "outputs": [
    {
     "name": "stdout",
     "output_type": "stream",
     "text": [
      "VALENTINO19-20250403-P8AHJNUI8\n"
     ]
    }
   ],
   "source": [
    "if(len(nombreUsuario)<16):\n",
    "    #paso el nombre a mayusculas\n",
    "    nombreUsuario = nombreUsuario.upper()\n",
    "    #importo date de deltatime, para poder conseguir la fecha actual\n",
    "    from datetime import date\n",
    "    #importo random, para poder elegir un numero o letra aleatoria\n",
    "    import random\n",
    "    #importo string, para poder hacer una lista de letras y digitos \n",
    "    import string\n",
    "    #creo una lista de digitos y letras mayusculas\n",
    "    caracteres = string.ascii_uppercase + string.digits\n",
    "    #guardo la fecha de hoy en una variable\n",
    "    hoy = date.today()\n",
    "    #convierto esa variable a string\n",
    "    hoy = hoy.isoformat()\n",
    "    #le quito los guiones a la variable\n",
    "    hoy = hoy.replace(\"-\",\"\")\n",
    "    #inicializo una lista vacia para poder llenarla de digitos y letras mayusculas aleatorias\n",
    "    aleatorio = \"\"\n",
    "    #calculo cuantas letras necesito\n",
    "    longitud_faltante = 28 - (len(hoy) + len(nombreUsuario))\n",
    "    #hago un for de la longitud de la cantidad de caracteres que necesito\n",
    "    for _ in range(longitud_faltante):\n",
    "        #hago que random elija de la lista algunas letras y digitos, y los agrego a la variable aleatorio\n",
    "        aleatorio = aleatorio + random.choice(caracteres)\n",
    "    #imprimo todo con guiones de por medio\n",
    "    print(f\"{nombreUsuario}-{hoy}-{aleatorio}\")\n",
    "else: print(\"Nombre demasiado largo\")"
   ]
  },
  {
   "cell_type": "markdown",
   "id": "55e13b79-7a1a-4d38-9ecb-189f0b8e87cb",
   "metadata": {},
   "source": [
    "si el nombre es muy largo, se imprime un mensaje avisandole al usuario"
   ]
  }
 ],
 "metadata": {
  "kernelspec": {
   "display_name": "Python [conda env:base] *",
   "language": "python",
   "name": "conda-base-py"
  },
  "language_info": {
   "codemirror_mode": {
    "name": "ipython",
    "version": 3
   },
   "file_extension": ".py",
   "mimetype": "text/x-python",
   "name": "python",
   "nbconvert_exporter": "python",
   "pygments_lexer": "ipython3",
   "version": "3.12.7"
  }
 },
 "nbformat": 4,
 "nbformat_minor": 5
}
